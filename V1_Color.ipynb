{
  "nbformat": 4,
  "nbformat_minor": 0,
  "metadata": {
    "colab": {
      "provenance": [],
      "authorship_tag": "ABX9TyM+Tzf0WwyrdF5/2r47aU60",
      "include_colab_link": true
    },
    "kernelspec": {
      "name": "python3",
      "display_name": "Python 3"
    },
    "language_info": {
      "name": "python"
    },
    "widgets": {
      "application/vnd.jupyter.widget-state+json": {
        "8cd640db65944207b742a932ce27efd2": {
          "model_module": "@jupyter-widgets/controls",
          "model_name": "VBoxModel",
          "model_module_version": "1.5.0",
          "state": {
            "_dom_classes": [
              "widget-interact"
            ],
            "_model_module": "@jupyter-widgets/controls",
            "_model_module_version": "1.5.0",
            "_model_name": "VBoxModel",
            "_view_count": null,
            "_view_module": "@jupyter-widgets/controls",
            "_view_module_version": "1.5.0",
            "_view_name": "VBoxView",
            "box_style": "",
            "children": [
              "IPY_MODEL_6ef7842d736b4d63900a2b68355f4e6c",
              "IPY_MODEL_07d7968a2eda4e2bb2cfa8223f084650"
            ],
            "layout": "IPY_MODEL_bc8b78217c82417e8c63c597927d6d38"
          }
        },
        "6ef7842d736b4d63900a2b68355f4e6c": {
          "model_module": "@jupyter-widgets/controls",
          "model_name": "IntSliderModel",
          "model_module_version": "1.5.0",
          "state": {
            "_dom_classes": [],
            "_model_module": "@jupyter-widgets/controls",
            "_model_module_version": "1.5.0",
            "_model_name": "IntSliderModel",
            "_view_count": null,
            "_view_module": "@jupyter-widgets/controls",
            "_view_module_version": "1.5.0",
            "_view_name": "IntSliderView",
            "continuous_update": true,
            "description": "λ (nm):",
            "description_tooltip": null,
            "disabled": false,
            "layout": "IPY_MODEL_76aba0cb6845417a8aed6637a8ef3bbe",
            "max": 750,
            "min": 380,
            "orientation": "horizontal",
            "readout": true,
            "readout_format": "d",
            "step": 10,
            "style": "IPY_MODEL_4520bf2dfbdb453f872a5d92f6de7691",
            "value": 660
          }
        },
        "07d7968a2eda4e2bb2cfa8223f084650": {
          "model_module": "@jupyter-widgets/output",
          "model_name": "OutputModel",
          "model_module_version": "1.0.0",
          "state": {
            "_dom_classes": [],
            "_model_module": "@jupyter-widgets/output",
            "_model_module_version": "1.0.0",
            "_model_name": "OutputModel",
            "_view_count": null,
            "_view_module": "@jupyter-widgets/output",
            "_view_module_version": "1.0.0",
            "_view_name": "OutputView",
            "layout": "IPY_MODEL_10278b4e5c0a4253ab116a0f766b7641",
            "msg_id": "",
            "outputs": [
              {
                "output_type": "display_data",
                "data": {
                  "text/plain": "<Figure size 1000x500 with 1 Axes>",
                  "image/png": "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\n"
                },
                "metadata": {}
              },
              {
                "output_type": "stream",
                "name": "stdout",
                "text": [
                  "📏 Longitud de onda: 660 nm\n",
                  "📡 Frecuencia: 4.55e+14 Hz\n",
                  "⚡ Energía: 3.01e-19 J\n",
                  "🎨 Color percibido: Rojo\n"
                ]
              }
            ]
          }
        },
        "bc8b78217c82417e8c63c597927d6d38": {
          "model_module": "@jupyter-widgets/base",
          "model_name": "LayoutModel",
          "model_module_version": "1.2.0",
          "state": {
            "_model_module": "@jupyter-widgets/base",
            "_model_module_version": "1.2.0",
            "_model_name": "LayoutModel",
            "_view_count": null,
            "_view_module": "@jupyter-widgets/base",
            "_view_module_version": "1.2.0",
            "_view_name": "LayoutView",
            "align_content": null,
            "align_items": null,
            "align_self": null,
            "border": null,
            "bottom": null,
            "display": null,
            "flex": null,
            "flex_flow": null,
            "grid_area": null,
            "grid_auto_columns": null,
            "grid_auto_flow": null,
            "grid_auto_rows": null,
            "grid_column": null,
            "grid_gap": null,
            "grid_row": null,
            "grid_template_areas": null,
            "grid_template_columns": null,
            "grid_template_rows": null,
            "height": null,
            "justify_content": null,
            "justify_items": null,
            "left": null,
            "margin": null,
            "max_height": null,
            "max_width": null,
            "min_height": null,
            "min_width": null,
            "object_fit": null,
            "object_position": null,
            "order": null,
            "overflow": null,
            "overflow_x": null,
            "overflow_y": null,
            "padding": null,
            "right": null,
            "top": null,
            "visibility": null,
            "width": null
          }
        },
        "76aba0cb6845417a8aed6637a8ef3bbe": {
          "model_module": "@jupyter-widgets/base",
          "model_name": "LayoutModel",
          "model_module_version": "1.2.0",
          "state": {
            "_model_module": "@jupyter-widgets/base",
            "_model_module_version": "1.2.0",
            "_model_name": "LayoutModel",
            "_view_count": null,
            "_view_module": "@jupyter-widgets/base",
            "_view_module_version": "1.2.0",
            "_view_name": "LayoutView",
            "align_content": null,
            "align_items": null,
            "align_self": null,
            "border": null,
            "bottom": null,
            "display": null,
            "flex": null,
            "flex_flow": null,
            "grid_area": null,
            "grid_auto_columns": null,
            "grid_auto_flow": null,
            "grid_auto_rows": null,
            "grid_column": null,
            "grid_gap": null,
            "grid_row": null,
            "grid_template_areas": null,
            "grid_template_columns": null,
            "grid_template_rows": null,
            "height": null,
            "justify_content": null,
            "justify_items": null,
            "left": null,
            "margin": null,
            "max_height": null,
            "max_width": null,
            "min_height": null,
            "min_width": null,
            "object_fit": null,
            "object_position": null,
            "order": null,
            "overflow": null,
            "overflow_x": null,
            "overflow_y": null,
            "padding": null,
            "right": null,
            "top": null,
            "visibility": null,
            "width": null
          }
        },
        "4520bf2dfbdb453f872a5d92f6de7691": {
          "model_module": "@jupyter-widgets/controls",
          "model_name": "SliderStyleModel",
          "model_module_version": "1.5.0",
          "state": {
            "_model_module": "@jupyter-widgets/controls",
            "_model_module_version": "1.5.0",
            "_model_name": "SliderStyleModel",
            "_view_count": null,
            "_view_module": "@jupyter-widgets/base",
            "_view_module_version": "1.2.0",
            "_view_name": "StyleView",
            "description_width": "",
            "handle_color": null
          }
        },
        "10278b4e5c0a4253ab116a0f766b7641": {
          "model_module": "@jupyter-widgets/base",
          "model_name": "LayoutModel",
          "model_module_version": "1.2.0",
          "state": {
            "_model_module": "@jupyter-widgets/base",
            "_model_module_version": "1.2.0",
            "_model_name": "LayoutModel",
            "_view_count": null,
            "_view_module": "@jupyter-widgets/base",
            "_view_module_version": "1.2.0",
            "_view_name": "LayoutView",
            "align_content": null,
            "align_items": null,
            "align_self": null,
            "border": null,
            "bottom": null,
            "display": null,
            "flex": null,
            "flex_flow": null,
            "grid_area": null,
            "grid_auto_columns": null,
            "grid_auto_flow": null,
            "grid_auto_rows": null,
            "grid_column": null,
            "grid_gap": null,
            "grid_row": null,
            "grid_template_areas": null,
            "grid_template_columns": null,
            "grid_template_rows": null,
            "height": null,
            "justify_content": null,
            "justify_items": null,
            "left": null,
            "margin": null,
            "max_height": null,
            "max_width": null,
            "min_height": null,
            "min_width": null,
            "object_fit": null,
            "object_position": null,
            "order": null,
            "overflow": null,
            "overflow_x": null,
            "overflow_y": null,
            "padding": null,
            "right": null,
            "top": null,
            "visibility": null,
            "width": null
          }
        }
      }
    }
  },
  "cells": [
    {
      "cell_type": "markdown",
      "metadata": {
        "id": "view-in-github",
        "colab_type": "text"
      },
      "source": [
        "<a href=\"https://colab.research.google.com/github/massegu/Percepcion_V1_Clinica/blob/main/V1_Color.ipynb\" target=\"_parent\"><img src=\"https://colab.research.google.com/assets/colab-badge.svg\" alt=\"Open In Colab\"/></a>"
      ]
    },
    {
      "cell_type": "code",
      "source": [
        "import numpy as np\n",
        "import matplotlib.pyplot as plt\n",
        "import ipywidgets as widgets\n",
        "\n",
        "# Constantes físicas\n",
        "h = 6.626e-34  # J·s\n",
        "c = 3e8        # m/s\n",
        "\n",
        "# Diccionario de colores aproximados por longitud de onda\n",
        "colores = {\n",
        "    'Violeta': (380, 450, '#8B00FF'),\n",
        "    'Azul': (450, 495, '#0000FF'),\n",
        "    'Verde': (495, 570, '#00FF00'),\n",
        "    'Amarillo': (570, 590, '#FFFF00'),\n",
        "    'Naranja': (590, 620, '#FFA500'),\n",
        "    'Rojo': (620, 750, '#FF0000')\n",
        "}\n",
        "\n",
        "def propiedades_onda(long_nm):\n",
        "    long_m = long_nm * 1e-9\n",
        "    frecuencia = c / long_m\n",
        "    energia = h * frecuencia\n",
        "\n",
        "    # Determinar color percibido\n",
        "    color_nombre = 'Infrarrojo'\n",
        "    color_hex = '#808080'\n",
        "    for nombre, valores in colores.items():\n",
        "        min_nm, max_nm, hexcode = valores\n",
        "        if min_nm <= long_nm <= max_nm:\n",
        "            color_nombre = nombre\n",
        "            color_hex = hexcode\n",
        "            break\n",
        "\n",
        "    # Normalización para visualización\n",
        "    freq_norm = frecuencia / 1e14\n",
        "    energia_norm = energia / 1e-19\n",
        "    long_norm = long_nm / 100  # escala visual\n",
        "\n",
        "    # Visualización\n",
        "    fig, ax = plt.subplots(figsize=(10,5))\n",
        "    ax.set_facecolor('white')\n",
        "    ax.bar('Longitud de onda (λ)', long_norm, color='gray')\n",
        "    ax.bar('Frecuencia (f)', freq_norm, color='skyblue')\n",
        "    ax.bar('Energía (E)', energia_norm, color=color_hex)\n",
        "\n",
        "    ax.set_title(f'Propiedades de la luz ({long_nm} nm)', color='black')\n",
        "    ax.set_ylabel('Valor normalizado', color='black')\n",
        "    ax.tick_params(colors='black')\n",
        "    for label in ax.get_xticklabels(): label.set_color('black')\n",
        "    for label in ax.get_yticklabels(): label.set_color('black')\n",
        "    plt.tight_layout()\n",
        "    plt.show()\n",
        "\n",
        "    # Información textual\n",
        "    print(f\"📏 Longitud de onda: {long_nm} nm\")\n",
        "    print(f\"📡 Frecuencia: {frecuencia:.2e} Hz\")\n",
        "    print(f\"⚡ Energía: {energia:.2e} J\")\n",
        "    print(f\"🎨 Color percibido: {color_nombre}\")\n",
        "\n",
        "widgets.interact(propiedades_onda, long_nm=widgets.IntSlider(value=530, min=380, max=750, step=10, description='λ (nm):'))\n"
      ],
      "metadata": {
        "colab": {
          "base_uri": "https://localhost:8080/",
          "height": 693,
          "referenced_widgets": [
            "8cd640db65944207b742a932ce27efd2",
            "6ef7842d736b4d63900a2b68355f4e6c",
            "07d7968a2eda4e2bb2cfa8223f084650",
            "bc8b78217c82417e8c63c597927d6d38",
            "76aba0cb6845417a8aed6637a8ef3bbe",
            "4520bf2dfbdb453f872a5d92f6de7691",
            "10278b4e5c0a4253ab116a0f766b7641"
          ]
        },
        "id": "5vTQBpKgbPil",
        "outputId": "69142706-31b5-4dd9-9e04-10a953fe625e"
      },
      "execution_count": 9,
      "outputs": [
        {
          "output_type": "display_data",
          "data": {
            "text/plain": [
              "interactive(children=(IntSlider(value=530, description='λ (nm):', max=750, min=380, step=10), Output()), _dom_…"
            ],
            "application/vnd.jupyter.widget-view+json": {
              "version_major": 2,
              "version_minor": 0,
              "model_id": "8cd640db65944207b742a932ce27efd2"
            }
          },
          "metadata": {}
        },
        {
          "output_type": "execute_result",
          "data": {
            "text/plain": [
              "<function __main__.propiedades_onda(long_nm)>"
            ],
            "text/html": [
              "<div style=\"max-width:800px; border: 1px solid var(--colab-border-color);\"><style>\n",
              "      pre.function-repr-contents {\n",
              "        overflow-x: auto;\n",
              "        padding: 8px 12px;\n",
              "        max-height: 500px;\n",
              "      }\n",
              "\n",
              "      pre.function-repr-contents.function-repr-contents-collapsed {\n",
              "        cursor: pointer;\n",
              "        max-height: 100px;\n",
              "      }\n",
              "    </style>\n",
              "    <pre style=\"white-space: initial; background:\n",
              "         var(--colab-secondary-surface-color); padding: 8px 12px;\n",
              "         border-bottom: 1px solid var(--colab-border-color);\"><b>propiedades_onda</b><br/>def propiedades_onda(long_nm)</pre><pre class=\"function-repr-contents function-repr-contents-collapsed\" style=\"\"><a class=\"filepath\" style=\"display:none\" href=\"#\">/tmp/ipython-input-4061867608.py</a>&lt;no docstring&gt;</pre></div>"
            ]
          },
          "metadata": {},
          "execution_count": 9
        }
      ]
    },
    {
      "cell_type": "markdown",
      "source": [
        "# 1. Longitud de onda (λ)\n",
        "Qué es: La distancia entre dos crestas consecutivas de una onda.\n",
        "\n",
        "Unidad: Nanómetros (nm) en el espectro visible.\n",
        "\n",
        "Relación perceptiva: Determina el color que percibimos\n",
        "\n",
        "# 2. Frecuencia (f)\n",
        "Qué es: El número de ciclos (vibraciones) por segundo.\n",
        "\n",
        "Unidad: Hertz (Hz)\n",
        "\n",
        "Relación física: Cuanto mayor la frecuencia, más energía tiene la onda.\n",
        "\n",
        "# 3. Energía (E)\n",
        "Qué es: La cantidad de energía transportada por cada fotón.\n",
        "\n",
        "Unidad: Julios (J)"
      ],
      "metadata": {
        "id": "LnxiAUrMba2F"
      }
    },
    {
      "cell_type": "markdown",
      "source": [
        "Ejemplo aplicado\n",
        "Una luz azul (450 nm) tiene mayor frecuencia y energía que una luz roja (650 nm).\n",
        "\n",
        "Por eso la luz azul puede causar más fatiga visual o incomodidad en personas sensibles (como se evalúa en el ICO).\n",
        "\n",
        "En retina, los conos S responden a frecuencias más altas (azul), mientras que los L responden a frecuencias más bajas (rojo)."
      ],
      "metadata": {
        "id": "GKx9Hh7IcJzv"
      }
    }
  ]
}