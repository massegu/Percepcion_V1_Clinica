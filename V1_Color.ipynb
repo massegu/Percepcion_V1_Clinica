{
  "nbformat": 4,
  "nbformat_minor": 0,
  "metadata": {
    "colab": {
      "provenance": [],
      "authorship_tag": "ABX9TyPR8qOTyeVRC6ExMxUBWD+g",
      "include_colab_link": true
    },
    "kernelspec": {
      "name": "python3",
      "display_name": "Python 3"
    },
    "language_info": {
      "name": "python"
    },
    "widgets": {
      "application/vnd.jupyter.widget-state+json": {
        "47b583eaa6914718bbfcfa7de55a1b00": {
          "model_module": "@jupyter-widgets/controls",
          "model_name": "VBoxModel",
          "model_module_version": "1.5.0",
          "state": {
            "_dom_classes": [
              "widget-interact"
            ],
            "_model_module": "@jupyter-widgets/controls",
            "_model_module_version": "1.5.0",
            "_model_name": "VBoxModel",
            "_view_count": null,
            "_view_module": "@jupyter-widgets/controls",
            "_view_module_version": "1.5.0",
            "_view_name": "VBoxView",
            "box_style": "",
            "children": [
              "IPY_MODEL_7f873e5491284944938480d987f5934a",
              "IPY_MODEL_9a8aa57447154f11b90cb01bfcf6cafe"
            ],
            "layout": "IPY_MODEL_ac6d8edaa6a14974824356bcffff32a9"
          }
        },
        "7f873e5491284944938480d987f5934a": {
          "model_module": "@jupyter-widgets/controls",
          "model_name": "IntSliderModel",
          "model_module_version": "1.5.0",
          "state": {
            "_dom_classes": [],
            "_model_module": "@jupyter-widgets/controls",
            "_model_module_version": "1.5.0",
            "_model_name": "IntSliderModel",
            "_view_count": null,
            "_view_module": "@jupyter-widgets/controls",
            "_view_module_version": "1.5.0",
            "_view_name": "IntSliderView",
            "continuous_update": true,
            "description": "λ (nm):",
            "description_tooltip": null,
            "disabled": false,
            "layout": "IPY_MODEL_79af032d03a54e8683def07591fcd3bc",
            "max": 750,
            "min": 380,
            "orientation": "horizontal",
            "readout": true,
            "readout_format": "d",
            "step": 10,
            "style": "IPY_MODEL_b5d79078a3b64beeb89383c4566e04e3",
            "value": 420
          }
        },
        "9a8aa57447154f11b90cb01bfcf6cafe": {
          "model_module": "@jupyter-widgets/output",
          "model_name": "OutputModel",
          "model_module_version": "1.0.0",
          "state": {
            "_dom_classes": [],
            "_model_module": "@jupyter-widgets/output",
            "_model_module_version": "1.0.0",
            "_model_name": "OutputModel",
            "_view_count": null,
            "_view_module": "@jupyter-widgets/output",
            "_view_module_version": "1.0.0",
            "_view_name": "OutputView",
            "layout": "IPY_MODEL_50942303a9ff4817bcac55c81f4d912d",
            "msg_id": "",
            "outputs": [
              {
                "output_type": "display_data",
                "data": {
                  "text/plain": "<Figure size 800x400 with 1 Axes>",
                  "image/png": "iVBORw0KGgoAAAANSUhEUgAAAxYAAAGGCAYAAADmRxfNAAAAOnRFWHRTb2Z0d2FyZQBNYXRwbG90bGliIHZlcnNpb24zLjEwLjAsIGh0dHBzOi8vbWF0cGxvdGxpYi5vcmcvlHJYcgAAAAlwSFlzAAAPYQAAD2EBqD+naQAAQbpJREFUeJzt3Xl8THf////nCJlEJEGIUBEkqJ1SLvu+i6WWUkuEaq+WxlKEq1pcraLUUrVUqyhttR/7pRdqb22tvZe2lNRWtYcsliA5vz/8Ml9jksjkJEbax/12m9vNvM973ud1TtOZec4573MshmEYAgAAAAATcri6AAAAAADZH8ECAAAAgGkECwAAAACmESwAAAAAmEawAAAAAGAawQIAAACAaQQLAAAAAKYRLAAAAACYRrAAgL+ITZs26e2339bNmzddXQoA4G+IYAHgibNw4UJZLBadOnUq08bs06ePihcvnmnjSZLFYtHYsWMzdcxHuXjxojp37iw/Pz9ZLBZNnz7d1t61a1dJUu7cudM1VvHixdWnT58sqjRznTp1ShaLRQsXLsy0MTP7v58r/h4kKT4+Xv7+/vr8888f+7qfRHfv3lVgYKBmz57t6lKAvx2CBfA3l/wlPvnh4eGh0qVLa+DAgbp48aKry8NDhgwZog0bNmjUqFFavHixWrZsKUkaMGCAatSooTfeeMPFFeJxmzFjhry9vdWtW7dU+/Tv318Wi0Vt27a1a7969aomT56s+vXrq2DBgsqbN6/+8Y9/6KuvvkpxnISEBEVGRqpIkSLy9PRUzZo1tXHjxkzdHrNy5cqloUOHavz48bp9+7arywH+VggWACRJ//73v7V48WJ9+OGHql27tubMmaNatWq55LSaXr166datWwoKCnrs637SbdmyRe3bt9ewYcPUs2dPPf3001q5cqX27NmjJUuWKEeO9L+tHzt2TB9//HEWVousdvfuXc2YMUMvvvii3NzcUuyzb98+LVy4UB4eHg7Ldu/erTfeeEP58+fX6NGjNX78eOXOnVvdunXTmDFjHPr36dNHU6dOVY8ePTRjxgy5ubmpdevW2rFjR6Zvmxnh4eG6cuWKvvjiC1eXAvytECwASJJatWqlnj176sUXX9TChQs1ePBgnTx5UqtXr071NTdu3MiSWtzc3OTh4SGLxZIl42dnly5dUt68ee3aOnbsqD/++EMFChRwaiyr1apcuXJlYnV43NauXavLly/bToN7mGEYioiIUO/evVWoUCGH5eXLl9fx48e1atUqDRo0SAMGDNDmzZvVuHFjTZo0ye7/8R9//FFLly7VhAkTNHnyZL300kvasmWLgoKCNGLEiCzbxozImzevmjdvnqmnzgF4NIIFgBQ1btxYknTy5ElJ93+pzJMnj6KiotS6dWt5e3urR48eku4HjNdff12BgYGyWq0qU6aMpkyZIsMw7Ma0WCwaOHCgPv/8c5UpU0YeHh6qVq2avvvuO7t+qc2xWLdunerVqycvLy95e3urTZs2+vnnnx1qX7VqlSpUqCAPDw9VqFBBK1euTHEbp0yZotq1a8vPz0+enp6qVq2ali1b5tAvISFBQ4YMUcGCBeXt7a127drpjz/+SHHMc+fOqW/fvipUqJCsVqvKly+vTz/91KHfzJkzVb58eeXOnVv58uVT9erV0/x1NXmfGIahWbNm2U5dk6Rt27bJYrFo27Zttv7Hjx9Xp06dFBAQIA8PDxUtWlTdunVTTEyMrU9KcyyuX7+uIUOGqHjx4rJarSpatKh69+6tK1euSJLu3Lmjt956S9WqVZOvr6+8vLxUr149bd261aHmpUuXqlq1avL29paPj48qVqyoGTNmpLqND9bQp08f+fr6Km/evAoLC9P169dT7Hv06FF17txZ+fPnl4eHh6pXr641a9Y8ch0pOX36tF599VWVKVNGnp6e8vPzU5cuXTI81ye1eT1jx461C819+vSxOx3xwcej5mysWrVKxYsXV3BwcIrLFy9erCNHjmj8+PEpLi9RooTDkUGLxaIOHTooISFBv//+u6192bJlcnNz00svvWRr8/DwUL9+/bR7926dPXs2zVobNmyoChUq6JdfflGjRo2UO3duPfXUU3rvvffs+iX/PX/99dcaN26cnnrqKXl7e6tz586KiYlRQkKCBg8eLH9/f+XJk0fh4eFKSEhwWF+zZs20Y8cORUdHp1kXgMyT09UFAHgyRUVFSZL8/Pxsbffu3VOLFi1Ut25dTZkyRblz55ZhGGrXrp22bt2qfv36qUqVKtqwYYOGDx+uc+fOadq0aXbjbt++XV999ZUiIiJktVo1e/ZstWzZUj/++KMqVKiQaj2LFy9WWFiYWrRooUmTJunmzZuaM2eO6tatq4MHD9q+wH377bfq1KmTypUrpwkTJujq1asKDw9X0aJFHcacMWOG2rVrpx49eujOnTtaunSpunTporVr16pNmza2fi+++KKWLFmiF154QbVr19aWLVvslie7ePGi/vGPf9gCVMGCBbVu3Tr169dPsbGxGjx4sCTp448/VkREhDp37qxBgwbp9u3b+umnn/TDDz/ohRdeSHH769evr8WLF6tXr15q1qyZevfuneq+unPnjlq0aKGEhAS99tprCggI0Llz57R27Vpdv35dvr6+Kb4uPj5e9erV06+//qq+ffvqmWee0ZUrV7RmzRrbEZHY2Fh98skn6t69u/r376+4uDjNnz9fLVq00I8//qgqVapIkjZu3Kju3burSZMmmjRpkiTp119/1c6dOzVo0KBUazcMQ+3bt9eOHTv0z3/+U2XLltXKlSsVFhbm0Pfnn39WnTp19NRTT2nkyJHy8vLS119/rQ4dOmj58uXq2LFjqutJyd69e7Vr1y5169ZNRYsW1alTpzRnzhw1bNhQv/zyS7onxTvr5ZdfVtOmTe3a1q9fr88//1z+/v5pvnbXrl165plnUlwWFxenyMhI/etf/1JAQIBTNV24cEGS7I6CHTx4UKVLl5aPj49d3xo1akiSDh06pMDAwDTHvXbtmlq2bKnnnntOXbt21bJlyxQZGamKFSuqVatWdn0nTJggT09PjRw5UidOnNDMmTOVK1cu5ciRQ9euXdPYsWO1Z88eLVy4UCVKlNBbb71l9/pq1arJMAzt2rXLYW4JgCxiAPhbW7BggSHJ2LRpk3H58mXj7NmzxtKlSw0/Pz/D09PT+OOPPwzDMIywsDBDkjFy5Ei7169atcqQZLzzzjt27Z07dzYsFotx4sQJW5skQ5Kxb98+W9vp06cNDw8Po2PHjg41nTx50jAMw4iLizPy5s1r9O/f324dFy5cMHx9fe3aq1SpYhQuXNi4fv26re3bb781JBlBQUF2r79586bd8zt37hgVKlQwGjdubGs7dOiQIcl49dVX7fq+8MILhiRjzJgxtrZ+/foZhQsXNq5cuWLXt1u3boavr69tfe3btzfKly9vZIQkY8CAAXZtW7duNSQZW7duNQzDMA4ePGhIMv7v//4vzbGCgoKMsLAw2/O33nrLkGSsWLHCoW9SUpJhGIZx7949IyEhwW7ZtWvXjEKFChl9+/a1tQ0aNMjw8fEx7t2758zm2f6e3nvvPVvbvXv3jHr16hmSjAULFtjamzRpYlSsWNG4ffu2XZ21a9c2SpUq9ch1Pfzf7+G/B8MwjN27dxuSjM8++8zp8cLCwhz+5gzDMMaMGWOk9fF7/Phxw9fX12jWrFma++/u3buGxWIxXn/99RSXDxs2zChRooRt/wQFBRlt2rR55HZcvXrV8Pf3N+rVq2fXXr58ebv/N5L9/PPPhiRj7ty5aY7boEEDh32ZkJBgBAQEGJ06dbK1Jf89V6hQwbhz546tvXv37obFYjFatWplN26tWrVS3M9//vmnIcmYNGlSmnUByDycCgVAktS0aVMVLFhQgYGB6tatm/LkyaOVK1fqqaeesuv3yiuv2D3/73//Kzc3N0VERNi1v/766zIMQ+vWrbNrr1WrlqpVq2Z7XqxYMbVv314bNmxQYmJiirVt3LhR169fV/fu3XXlyhXbw83NTTVr1rSdhnP+/HkdOnRIYWFhdr/KN2vWTOXKlXMY19PT0/bva9euKSYmRvXq1dOBAwfstk+Sw/YlH31IZhiGli9frtDQUBmGYVdnixYtFBMTYxs3b968+uOPP7R3794Ut9es5G3fsGGDU5Pvly9frsqVK6f4S3/yqTtubm5yd3eXJCUlJSk6Olr37t1T9erV7fZb3rx5dePGDaevGPTf//5XOXPmtPs7c3Nz02uvvWbXLzo6Wlu2bFHXrl0VFxdn29dXr15VixYtdPz4cZ07d86pdT/493D37l1dvXpVISEhyps3r922ZaUbN26oY8eOypcvn7788stUJ2RL9/eBYRjKly+fw7LffvtNM2bM0OTJk2W1WtO9/qSkJPXo0UPXr1/XzJkz7ZbdunUrxbGSJ4XfunXrkePnyZNHPXv2tD13d3dXjRo17E65Sta7d2+7OUA1a9aUYRjq27evXb+aNWvq7Nmzunfvnl178n5JPo0PQNYjWACQJM2aNUsbN27U1q1b9csvv+j3339XixYt7PrkzJnT4ZSi06dPq0iRIvL29rZrL1u2rG35g0qVKuWw7tKlS+vmzZu6fPlyirUdP35c0v15HwULFrR7fPvtt7p06ZLdulJaR5kyZRza1q5dq3/84x/y8PBQ/vz5VbBgQc2ZM8duHsLp06eVI0cOh3PYHx7v8uXLun79uubNm+dQY3h4uCTZ6oyMjFSePHlUo0YNlSpVSgMGDNDOnTtT3PaMKFGihIYOHapPPvlEBQoUUIsWLTRr1iy77UpJVFRUmqejJVu0aJEqVaokDw8P+fn5qWDBgvrmm2/sxn/11VdVunRptWrVSkWLFlXfvn21fv36R459+vRpFS5cWHny5LFrf3h/nzhxQoZh6M0333TY38lXM0re3+l169YtvfXWW7a5QgUKFFDBggV1/fr1R+67zNK/f39FRUVp5cqVdqchpsV4aC6TJA0aNEi1a9dWp06dnFr/a6+9pvXr1+uTTz5R5cqV7ZZ5enqmOJch+ZKuDwaz1BQtWtThogz58uXTtWvXHPoWK1bM7nlyYH74dCtfX18lJSU5/DdK3i9cBAJ4fJhjAUDS/fOkq1evnmYfq9Xq1OVMM0tSUpKk+/MsUjpXPGdO59/Kvv/+e7Vr107169fX7NmzVbhwYeXKlUsLFizI0CUqk2vs2bNnivMBJKlSpUqS7oeuY8eOae3atVq/fr2WL1+u2bNn66233tK4ceOcXndK3n//ffXp00erV6/Wt99+q4iICE2YMEF79uxJcb5Jei1ZskR9+vRRhw4dNHz4cPn7+8vNzU0TJkywzcuRJH9/fx06dEgbNmzQunXrtG7dOi1YsEC9e/fWokWLTG9f8v4eNmyYQwBOFhIS4tSYr732mhYsWKDBgwerVq1a8vX1lcViUbdu3Wzrc0ZqX2hTOzI3Y8YMffnll1qyZIltrkpa8ufPL4vF4vClfMuWLVq/fr1WrFhhN/H83r17unXrlk6dOqX8+fM7zJUYN26cZs+erYkTJ6pXr14O6ytcuHCKR4HOnz8vSSpSpMgja07tCExK4Si1vukdI3m/OHu1NAAZR7AAYEpQUJA2bdqkuLg4u6MWR48etS1/UPLRhwf99ttvyp07twoWLJjiOpKPFvj7+ztMcn24ltTWcezYMbvny5cvl4eHhzZs2GB3eseCBQscxkxKSlJUVJTdr+YPj5d8xajExMQ0a0zm5eWl559/Xs8//7zu3Lmj5557TuPHj9eoUaNSvN9ARlSsWFEVK1bU6NGjtWvXLtWpU0dz587VO++8k2L/4OBgHTlyJM0xly1bppIlS2rFihV2X5xTuueBu7u7QkNDFRoaqqSkJL366qv66KOP9Oabb6b6pT8oKEibN29WfHy83VGLh/d3yZIlJd2/GVp69nd6LFu2TGFhYXr//fdtbbdv3071ilSPki9fvhRf+/BRPOl+0B02bJgGDx5su9rao+TMmVPBwcG2K7clO3PmjCTpueeec3jNuXPnVKJECU2bNs3udL5Zs2Zp7NixGjx4sCIjI1NcX5UqVbR161bFxsbahZIffvjBtvxJkrxfko+eAsh6nAoFwJTWrVsrMTFRH374oV37tGnTZLFYHK70snv3brvz1c+ePavVq1erefPmqf4S2aJFC/n4+Ojdd9/V3bt3HZYnn0JVuHBhValSRYsWLbI7LWLjxo365Zdf7F7j5uYmi8Vi9+vxqVOntGrVKrt+yfV/8MEHdu3Tp093GK9Tp05avnx5il/OHzzN6+rVq3bL3N3dVa5cORmGkeL2OSs2NtbhfPOKFSsqR44cKZ7KkqxTp046fPhwipfnTf41OPm/0YO/Dv/www/avXu3Xf+HtzFHjhy2IzZp1dC6dWvdu3dPc+bMsbUlJiY6nO/v7++vhg0b6qOPPrL9Yv6g1E6rS4ubm5vDr94zZ85M9QjDowQHBysmJkY//fSTre38+fMO+/f8+fPq2rWr6tatq8mTJzu1jlq1amnfvn12bY0bN9bKlSsdHgULFlT16tW1cuVKhYaG2vonX6WtR48emjp1aqrr6ty5sxITEzVv3jxbW0JCghYsWKCaNWs+8opQj9v+/ftlsVhUq1YtV5cC/G1wxAKAKaGhoWrUqJHeeOMNnTp1SpUrV9a3336r1atXa/DgwQ5zEypUqKAWLVrYXW5WUpqnAPn4+GjOnDnq1auXnnnmGXXr1k0FCxbUmTNn9M0336hOnTq2YDNhwgS1adNGdevWVd++fRUdHW27Z0R8fLxtzDZt2mjq1Klq2bKlXnjhBV26dEmzZs1SSEiI3RfBKlWqqHv37po9e7ZiYmJUu3Ztbd68WSdOnHCoc+LEidq6datq1qyp/v37q1y5coqOjtaBAwe0adMm2/X0mzdvroCAANWpU0eFChXSr7/+qg8//FBt2rRxmKuSEVu2bNHAgQPVpUsXlS5dWvfu3dPixYtt4Sc1w4cP17Jly9SlSxf17dtX1apVU3R0tNasWaO5c+eqcuXKatu2rVasWKGOHTuqTZs2OnnypObOnaty5crZ7d8XX3xR0dHRaty4sYoWLarTp09r5syZqlKlSpq/IIeGhqpOnToaOXKkTp06pXLlymnFihUpznGYNWuW6tatq4oVK6p///4qWbKkLl68qN27d+uPP/7Q4cOHndpvbdu21eLFi+Xr66ty5cpp9+7d2rRpU7rnOjysW7duioyMVMeOHRUREWG7RHLp0qXtwnVERIQuX76sESNGaOnSpXZjVKpUyRbIUtK+fXstXrxYv/32m0qXLi3p/tyEh+cnSPcvOFCoUCF16NDB1vbjjz+qd+/e8vPzU5MmTfT555/bvaZ27dq2o0M1a9ZUly5dNGrUKF26dEkhISFatGiRTp06pfnz5zu9f7Laxo0bVadOnQz/9wOQAa64FBWAJ0fypV337t2bZr+wsDDDy8srxWVxcXHGkCFDjCJFihi5cuUySpUqZUyePNl2idJk+v8vlbpkyRKjVKlShtVqNapWrWq7TOrDNSVfbjbZ1q1bjRYtWhi+vr6Gh4eHERwcbPTp08fu8rWGYRjLly83ypYta1itVqNcuXLGihUrUrz05/z58211PP3008aCBQtSvBTorVu3jIiICMPPz8/w8vIyQkNDjbNnzzpcXtQwDOPixYvGgAEDjMDAQCNXrlxGQECA0aRJE2PevHm2Ph999JFRv359w8/Pz7BarUZwcLAxfPhwIyYmJpW977gPH94veuBys7///rvRt29fIzg42PDw8DDy589vNGrUyNi0aZPd6x6+3Kxh3L/U6MCBA42nnnrKcHd3N4oWLWqEhYXZLqGblJRkvPvuu0ZQUJDtv9/atWsd9u+yZcuM5s2bG/7+/oa7u7tRrFgx4+WXXzbOnz//yG28evWq0atXL8PHx8fw9fU1evXqZbuE7oOXmzUMw4iKijJ69+5tBAQEGLly5TKeeuopo23btsayZcvStS8f/O937do1Izw83ChQoICRJ08eo0WLFsbRo0dT3E/pGc8w7l/quEKFCoa7u7tRpkwZY8mSJQ5/Y8mXYU3p8fB4D0tISDAKFChgvP3224+sL6XLzSb/v5ba4+H9fevWLWPYsGFGQECAYbVajWeffdZYv379I9edvJ0pXWb54b+d5L/nhy+XnNp7VfL+vHz5sq3t+vXrhru7u/HJJ5+kqzYAmcNiGCnMmAKALGCxWDRgwACH06YAZNzbb7+tBQsW6Pjx42lenvbvZPr06XrvvfcUFRWVrqtVAcgczLEAACAbGzJkiOLj4x1Oo/q7unv3rqZOnarRo0cTKoDHjDkWAABkY3ny5HH6nh1/Zbly5bJdGQvA48URCwAAAACmccQCwGPDlC4AAP66OGIBAAAAwDSCBQAAAADTCBYAAAAATMvWcyySkpL0559/ytvbWxaLxdXlAAAAAH8phmEoLi5ORYoUUY4caR+TyNbB4s8//1RgYKCrywAAAAD+0s6ePauiRYum2SdbBwtvb29J9zfUx8fHxdUAAAAAfy2xsbEKDAy0fe9OS7YOFsmnP/n4+BAsAAAAgCySnmkHTN4GAAAAYBrBAgAAAIBpBAsAAAAAphEsAAAAAJhGsAAAAABgGsECAAAAgGkECwAAAACmESwAAAAAmEawAAAAAGAawQIAAACAaQQLAAAAAKYRLAAAAACYltPVBfwVTDx4xdUlAECKRlYt4OoSAAB/ExyxAAAAAGCaS4NF8eLFZbFYHB4DBgxwZVkAAAAAnOTSU6H27t2rxMRE2/MjR46oWbNm6tKliwurAgAAAOAslwaLggUL2j2fOHGigoOD1aBBAxdVBAAAACAjnpjJ23fu3NGSJUs0dOhQWSyWFPskJCQoISHB9jw2NvZxlQcAAAAgDU/M5O1Vq1bp+vXr6tOnT6p9JkyYIF9fX9sjMDDw8RUIAAAAIFVPTLCYP3++WrVqpSJFiqTaZ9SoUYqJibE9zp49+xgrBAAAAJCaJ+JUqNOnT2vTpk1asWJFmv2sVqusVutjqgoAAABAej0RRywWLFggf39/tWnTxtWlAAAAAMgAlweLpKQkLViwQGFhYcqZ84k4gAIAAADASS4PFps2bdKZM2fUt29fV5cCAAAAIINcfoigefPmMgzD1WUAAAAAMMHlRywAAAAAZH8ECwAAAACmESwAAAAAmEawAAAAAGAawQIAAACAaQQLAAAAAKYRLAAAAACYRrAAAAAAYBrBAgAAAIBpBAsAAAAAphEsAAAAAJhGsAAAAABgGsECAAAAgGkECwAAAACmESwAAAAAmEawAAAAAGAawQIAAACAaQQLAAAAAKYRLAAAAACYRrAAAAAAYBrBAgAAAIBpBAsAAAAAphEsAAAAAJhGsAAAAABgGsECAAAAgGkECwAAAACmESwAAAAAmEawAAAAAGAawQIAAACAaQQLAAAAAKYRLAAAAACYRrAAAAAAYJrLg8W5c+fUs2dP+fn5ydPTUxUrVtS+fftcXRYAAAAAJ+R05cqvXbumOnXqqFGjRlq3bp0KFiyo48ePK1++fK4sCwAAAICTXBosJk2apMDAQC1YsMDWVqJECRdWBAAAACAjXHoq1Jo1a1S9enV16dJF/v7+qlq1qj7++ONU+yckJCg2NtbuAQAAAMD1XBosfv/9d82ZM0elSpXShg0b9MorrygiIkKLFi1Ksf+ECRPk6+trewQGBj7migEAAACkxGIYhuGqlbu7u6t69eratWuXrS0iIkJ79+7V7t27HfonJCQoISHB9jw2NlaBgYGKiYmRj4/PY6k5JRMPXnHZugEgLSOrFnB1CQCAbCw2Nla+vr7p+r7t0iMWhQsXVrly5ezaypYtqzNnzqTY32q1ysfHx+4BAAAAwPVcGizq1KmjY8eO2bX99ttvCgoKclFFAAAAADLCpcFiyJAh2rNnj959912dOHFCX3zxhebNm6cBAwa4siwAAAAATnJpsHj22We1cuVKffnll6pQoYLefvttTZ8+XT169HBlWQAAAACc5NL7WEhS27Zt1bZtW1eXAQAAAMAElx6xAAAAAPDXQLAAAAAAYBrBAgAAAIBpBAsAAAAAphEsAAAAAJhGsAAAAABgGsECAAAAgGkECwAAAACmESwAAAAAmEawAAAAAGAawQIAAACAaQQLAAAAAKYRLAAAAACYRrAAAAAAYBrBAgAAAIBpBAsAAAAAphEsAAAAAJhGsAAAAABgGsECAAAAgGkECwAAAACmESwAAAAAmEawAAAAAGAawQIAAACAaQQLAAAAAKYRLAAAAACYRrAAAAAAYBrBAgAAAIBpBAsAAAAAphEsAAAAAJiWMyMvun79uubPn69ff/1VklS+fHn17dtXvr6+mVocAAAAgOzB6SMW+/btU3BwsKZNm6bo6GhFR0dr6tSpCg4O1oEDB7KiRgAAAABPOKePWAwZMkTt2rXTxx9/rJw577/83r17evHFFzV48GB99913mV4kAAAAgCdbho5YREZG2kKFJOXMmVMjRozQvn37nBpr7Nixslgsdo+nn37a2ZIAAAAAuJjTRyx8fHx05swZhwBw9uxZeXt7O11A+fLltWnTpv9XUM4MTfsAAAAA4EJOf4t//vnn1a9fP02ZMkW1a9eWJO3cuVPDhw9X9+7dnS8gZ04FBAQ4/ToAAAAATw6ng8WUKVNksVjUu3dv3bt3T5KUK1cuvfLKK5o4caLTBRw/flxFihSRh4eHatWqpQkTJqhYsWIp9k1ISFBCQoLteWxsrNPrAwAAAJD5LIZhGBl54c2bNxUVFSVJCg4OVu7cuZ0eY926dYqPj1eZMmV0/vx5jRs3TufOndORI0dSPK1q7NixGjdunEN7TEyMfHx8nN+ITDLx4BWXrRsA0jKyagFXlwAAyMZiY2Pl6+ubru/bGQ4WWeH69esKCgrS1KlT1a9fP4flKR2xCAwMJFgAQCoIFgAAM5wJFuk6Feq5555L98pXrFiR7r4Py5s3r0qXLq0TJ06kuNxqtcpqtWZ4fAAAAABZI12Xm/X19bU9fHx8tHnzZrtLy+7fv1+bN282feft+Ph4RUVFqXDhwqbGAQAAAPB4peuIxYIFC2z/joyMVNeuXTV37ly5ublJkhITE/Xqq686fTrSsGHDFBoaqqCgIP35558aM2aM3NzcMnR1KQAAAACu4/RVoT799FPt2LHDFiokyc3NTUOHDlXt2rU1efLkdI/1xx9/qHv37rp69aoKFiyounXras+ePSpYsKCzZQEAAABwIaeDxb1793T06FGVKVPGrv3o0aNKSkpyaqylS5c6u3oAAAAATyCng0V4eLj69eunqKgo1ahRQ5L0ww8/aOLEiQoPD8/0AgEAAAA8+TJ0g7yAgAC9//77On/+vCSpcOHCGj58uF5//fVMLxAAAADAk8/pYJEjRw6NGDFCI0aMsN352pX3kAAAAADgek4HiwcRKAAAAABIGQwWy5Yt09dff60zZ87ozp07dssOHDiQKYUBAAAAyD6cDhYffPCB3njjDfXp00erV69WeHi4oqKitHfvXg0YMCAragQAIEtNsbi6AgBI2TDD1RWkX7ruvP2g2bNna968eZo5c6bc3d01YsQIbdy4UREREYqJicmKGgEAAAA84ZwOFmfOnFHt2rUlSZ6enoqLi5Mk9erVS19++WXmVgcAAAAgW3A6WAQEBCg6OlqSVKxYMe3Zs0eSdPLkSRlGNjpWAwAAACDTOB0sGjdurDVr1ki6f7O8IUOGqFmzZnr++efVsWPHTC8QAAAAwJPP6cnb8+bNU1JSkiRpwIAB8vPz065du9SuXTu9/PLLmV4gAAAAgCdfhm6QlyPH/zvQ0a1bN3Xr1i1TiwIAAACQvTh9KlTJkiUVHh6uhIQEu/YrV66oZMmSmVYYAAAAgOzD6WBx6tQp7dy5U/Xq1dOFCxds7YmJiTp9+nSmFgcAAAAge3A6WFgsFq1fv15FixZVtWrVtHfv3qyoCwAAAEA24nSwMAxDefLk0YoVK9S7d281aNBAS5YsyYraAAAAAGQTTk/etlgstn9PmDBB5cuXV//+/dW9e/dMLQwAAABA9uF0sHj4Jng9e/ZUcHAw97AAAAAA/sacDhbJ97B4UK1atXT48GEdPXo0U4oCAAAAkL04HSxSU6hQIRUqVCizhgMAAACQjaQrWDzzzDPavHmz8uXLp6pVq9rNs3jYgQMHMq04AAAAANlDuoJF+/btZbVaJUkdOnTIynoAAAAAZEPpChZjxoxJ8d8AAAAAIGXgPhYAAAAA8LB0HbHIly9fmvMqHhQdHW2qIAAAAADZT7qCxfTp07O4DAAAAADZWbqCRVhYWFbXAQAAACAbM3Ufi9u3b+vOnTt2bT4+PqYKAgAAAJD9OD15+8aNGxo4cKD8/f3l5eWlfPny2T0AAAAA/P04HSxGjBihLVu2aM6cObJarfrkk080btw4FSlSRJ999llW1AgAAADgCef0qVD/+c9/9Nlnn6lhw4YKDw9XvXr1FBISoqCgIH3++efq0aNHVtQJAAAA4Anm9BGL6OholSxZUtL9+RTJl5etW7euvvvuu8ytDgAAAEC24HSwKFmypE6ePClJevrpp/X1119Lun8kI2/evBkuZOLEibJYLBo8eHCGxwAAAADgGk4Hi/DwcB0+fFiSNHLkSM2aNUseHh4aMmSIhg8fnqEi9u7dq48++kiVKlXK0OsBAAAAuJbTcyyGDBli+3fTpk119OhR7d+/XyEhIRkKBvHx8erRo4c+/vhjvfPOO06/HgAAAIDrOX3E4mFBQUF67rnnMny0YcCAAWrTpo2aNm1qthQAAAAALpKhG+Tt3btXW7du1aVLl5SUlGS3bOrUqekeZ+nSpTpw4ID27t2brv4JCQlKSEiwPY+NjU33ugAAAABkHaeDxbvvvqvRo0erTJkyKlSokCwWi23Zg/9+lLNnz2rQoEHauHGjPDw80vWaCRMmaNy4cc6WDAAAACCLWQzDMJx5QaFChTRp0iT16dPH1IpXrVqljh07ys3NzdaWmJgoi8WiHDlyKCEhwW6ZlPIRi8DAQMXExMjHx8dUPWZMPHjFZesGgLSMrFrA1SVkC1PS/7sYADxWw5z6pp75YmNj5evrm67v204fsciRI4fq1KmT4eKSNWnSRP/73//s2sLDw/X0008rMjLSIVRIktVqldVqNb1uAAAAAJkrQ1eFmjVrlqZPn25qxd7e3qpQoYJdm5eXl/z8/BzaAQAAADzZnA4Ww4YNU5s2bRQcHKxy5copV65cdstXrFiRacUBAAAAyB6cDhYRERHaunWrGjVqJD8/P6cmbD/Ktm3bMm0sAAAAAI+P08Fi0aJFWr58udq0aZMV9QAAAADIhpy+QV7+/PkVHBycFbUAAAAAyKacDhZjx47VmDFjdPPmzayoBwAAAEA25PSpUB988IGioqJUqFAhFS9e3GHy9oEDBzKtOAAAAADZg9PBokOHDllQBgAAAIDszKlgce/ePVksFvXt21dFixbNqpoAAAAAZDNOzbHImTOnJk+erHv37mVVPQAAAACyIacnbzdu3Fjbt2/PiloAAAAAZFNOz7Fo1aqVRo4cqf/973+qVq2avLy87Ja3a9cu04oDAAAAkD04HSxeffVVSdLUqVMdllksFiUmJpqvCgAAAEC24nSwSEpKyoo6AAAAAGRjTs+xAAAAAICHZShYbN++XaGhoQoJCVFISIjatWun77//PrNrAwAAAJBNOB0slixZoqZNmyp37tyKiIhQRESEPD091aRJE33xxRdZUSMAAACAJ5zTcyzGjx+v9957T0OGDLG1RUREaOrUqXr77bf1wgsvZGqBAAAAAJ58Th+x+P333xUaGurQ3q5dO508eTJTigIAAACQvTgdLAIDA7V582aH9k2bNikwMDBTigIAAACQvTh9KtTrr7+uiIgIHTp0SLVr15Yk7dy5UwsXLtSMGTMyvUAAAAAATz6ng8Urr7yigIAAvf/++/r6668lSWXLltVXX32l9u3bZ3qBAAAAAJ58TgcLSerYsaM6duyY2bUAAAAAyKYyFCwk6c6dO7p06ZLDnbiLFStmuigAAAAA2YvTweL48ePq27evdu3aZdduGIYsFosSExMzrTgAAAAA2YPTwaJPnz7KmTOn1q5dq8KFC8tisWRFXQAAAACyEaeDxaFDh7R//349/fTTWVEPAAAAgGzI6ftYlCtXTleuXMmKWgAAAABkU04Hi0mTJmnEiBHatm2brl69qtjYWLsHAAAAgL8fp0+Fatq0qSSpSZMmdu1M3gYAAAD+vpwOFlu3bs2KOgAAAABkY04HiwYNGmRFHQAAAACyMafnWAAAAADAwwgWAAAAAEwjWAAAAAAwzalgYRiGzpw5o9u3b2fKyufMmaNKlSrJx8dHPj4+qlWrltatW5cpYwMAAAB4fJwOFiEhITp79mymrLxo0aKaOHGi9u/fr3379qlx48Zq3769fv7550wZHwAAAMDj4VSwyJEjh0qVKqWrV69myspDQ0PVunVrlSpVSqVLl9b48eOVJ08e7dmzJ1PGBwAAAPB4OD3HYuLEiRo+fLiOHDmSqYUkJiZq6dKlunHjhmrVqpWpYwMAAADIWk7fx6J37966efOmKleuLHd3d3l6etotj46Odmq8//3vf6pVq5Zu376tPHnyaOXKlSpXrlyKfRMSEpSQkGB7Hhsb62z5AAAAALKA08Fi+vTpmVpAmTJldOjQIcXExGjZsmUKCwvT9u3bUwwXEyZM0Lhx4zJ1/QAAAADMsxiGYbi6iAc1bdpUwcHB+uijjxyWpXTEIjAwUDExMfLx8XmcZdqZePCKy9YNAGkZWbWAq0vIFqZYXF0BAKRsmIu/qcfGxsrX1zdd37edPmIh3Z8PsWrVKv3666+SpPLly6tdu3Zyc3PLyHB2kpKS7MLDg6xWq6xWq+l1AAAAAMhcTgeLEydOqHXr1jp37pzKlCkj6f4pSoGBgfrmm28UHByc7rFGjRqlVq1aqVixYoqLi9MXX3yhbdu2acOGDc6WBQAAAMCFnA4WERERCg4O1p49e5Q/f35J0tWrV9WzZ09FRETom2++SfdYly5dUu/evXX+/Hn5+vqqUqVK2rBhg5o1a+ZsWQAAAABcyOlgsX37drtQIUl+fn6aOHGi6tSp49RY8+fPd3b1AAAAAJ5ATt/Hwmq1Ki4uzqE9Pj5e7u7umVIUAAAAgOzF6WDRtm1bvfTSS/rhhx9kGIYMw9CePXv0z3/+U+3atcuKGgEAAAA84ZwOFh988IGCg4NVq1YteXh4yMPDQ3Xq1FFISIhmzJiRFTUCAAAAeMI5Pccib968Wr16tY4fP66jR49KksqWLauQkJBMLw4AAABA9pCh+1hIUqlSpVSqVKnMrAUAAABANpWuYDF06NB0Dzh16tQMFwMAAAAge0pXsDh48GC6BrNYLKaKAQAAAJA9pStYbN26NavrAAAAAJCNOX1VKAAAAAB4WIYmb+/bt09ff/21zpw5ozt37tgtW7FiRaYUBgAAACD7cPqIxdKlS1W7dm39+uuvWrlype7evauff/5ZW7Zska+vb1bUCAAAAOAJ53SwePfddzVt2jT95z//kbu7u2bMmKGjR4+qa9euKlasWFbUCAAAAOAJ53SwiIqKUps2bSRJ7u7uunHjhiwWi4YMGaJ58+ZleoEAAAAAnnxOB4t8+fIpLi5OkvTUU0/pyJEjkqTr16/r5s2bmVsdAAAAgGzB6cnb9evX18aNG1WxYkV16dJFgwYN0pYtW7Rx40Y1adIkK2oEAAAA8IRLd7A4cuSIKlSooA8//FC3b9+WJL3xxhvKlSuXdu3apU6dOmn06NFZVigAAACAJ1e6g0WlSpX07LPP6sUXX1S3bt0kSTly5NDIkSOzrDgAAAAA2UO651hs375d5cuX1+uvv67ChQsrLCxM33//fVbWBgAAACCbSHewqFevnj799FOdP39eM2fO1KlTp9SgQQOVLl1akyZN0oULF7KyTgAAAABPMKevCuXl5aXw8HBt375dv/32m7p06aJZs2apWLFiateuXVbUCAAAAOAJ53SweFBISIj+9a9/afTo0fL29tY333yTWXUBAAAAyEacvtxssu+++06ffvqpli9frhw5cqhr167q169fZtYGAAAAIJtwKlj8+eefWrhwoRYuXKgTJ06odu3a+uCDD9S1a1d5eXllVY0AAAAAnnDpDhatWrXSpk2bVKBAAfXu3Vt9+/ZVmTJlsrI2AAAAANlEuoNFrly5tGzZMrVt21Zubm5ZWRMAAACAbCbdwWLNmjVZWQcAAACAbMzUVaEAAAAAQCJYAAAAAMgEBAsAAAAAphEsAAAAAJhGsAAAAABgGsECAAAAgGkuDRYTJkzQs88+K29vb/n7+6tDhw46duyYK0sCAAAAkAEuDRbbt2/XgAEDtGfPHm3cuFF3795V8+bNdePGDVeWBQAAAMBJ6b5BXlZYv3693fOFCxfK399f+/fvV/369V1UFQAAAABnPVFzLGJiYiRJ+fPnd3ElAAAAAJzh0iMWD0pKStLgwYNVp04dVahQIcU+CQkJSkhIsD2PjY19XOUBAAAASMMTc8RiwIABOnLkiJYuXZpqnwkTJsjX19f2CAwMfIwVAgAAAEjNExEsBg4cqLVr12rr1q0qWrRoqv1GjRqlmJgY2+Ps2bOPsUoAAAAAqXHpqVCGYei1117TypUrtW3bNpUoUSLN/larVVar9TFVBwAAACC9XBosBgwYoC+++EKrV6+Wt7e3Lly4IEny9fWVp6enK0sDAAAA4ASXngo1Z84cxcTEqGHDhipcuLDt8dVXX7myLAAAAABOcvmpUAAAAACyvydi8jYAAACA7I1gAQAAAMA0ggUAAAAA0wgWAAAAAEwjWAAAAAAwjWABAAAAwDSCBQAAAADTCBYAAAAATCNYAAAAADCNYAEAAADANIIFAAAAANMIFgAAAABMI1gAAAAAMI1gAQAAAMA0ggUAAAAA0wgWAAAAAEwjWAAAAAAwjWABAAAAwDSCBQAAAADTCBYAAAAATCNYAAAAADCNYAEAAADANIIFAAAAANMIFgAAAABMI1gAAAAAMI1gAQAAAMA0ggUAAAAA0wgWAAAAAEwjWAAAAAAwjWABAAAAwDSCBQAAAADTCBYAAAAATHNpsPjuu+8UGhqqIkWKyGKxaNWqVa4sBwAAAEAGuTRY3LhxQ5UrV9asWbNcWQYAAAAAk3K6cuWtWrVSq1atXFkCAAAAgEzAHAsAAAAAprn0iIWzEhISlJCQYHseGxvrwmoAAAAAJMtWRywmTJggX19f2yMwMNDVJQEAAABQNgsWo0aNUkxMjO1x9uxZV5cEAAAAQNnsVCir1Sqr1erqMgAAAAA8xKXBIj4+XidOnLA9P3nypA4dOqT8+fOrWLFiLqwMAAAAgDNcGiz27dunRo0a2Z4PHTpUkhQWFqaFCxe6qCoAAAAAznJpsGjYsKEMw3BlCQAAAAAyQbaavA0AAADgyUSwAAAAAGAawQIAAACAaQQLAAAAAKYRLAAAAACYRrAAAAAAYBrBAgAAAIBpBAsAAAAAphEsAAAAAJhGsAAAAABgGsECAAAAgGkECwAAAACmESwAAAAAmEawAAAAAGAawQIAAACAaQQLAAAAAKYRLAAAAACYRrAAAAAAYBrBAgAAAIBpBAsAAAAAphEsAAAAAJhGsAAAAABgGsECAAAAgGkECwAAAACmESwAAAAAmEawAAAAAGAawQIAAACAaQQLAAAAAKYRLAAAAACYRrAAAAAAYBrBAgAAAIBpBAsAAAAApj0RwWLWrFkqXry4PDw8VLNmTf3444+uLgkAAACAE1weLL766isNHTpUY8aM0YEDB1S5cmW1aNFCly5dcnVpAAAAANLJ5cFi6tSp6t+/v8LDw1WuXDnNnTtXuXPn1qeffurq0gAAAACkk0uDxZ07d7R//341bdrU1pYjRw41bdpUu3fvdmFlAAAAAJyR05Urv3LlihITE1WoUCG79kKFCuno0aMO/RMSEpSQkGB7HhMTI0mKjY3N2kIf4XZ8nEvXDwCpiY11d3UJ2cJtVxcAAKlw8ddc2/dswzAe2delwcJZEyZM0Lhx4xzaAwMDXVANADz5HN8xAQDZyZu+rq7gvri4OPn6pl2MS4NFgQIF5ObmposXL9q1X7x4UQEBAQ79R40apaFDh9qeJyUlKTo6Wn5+frJYLFleL5DVYmNjFRgYqLNnz8rHx8fV5QAAnMT7OP5qDMNQXFycihQp8si+Lg0W7u7uqlatmjZv3qwOHTpIuh8WNm/erIEDBzr0t1qtslqtdm158+Z9DJUCj5ePjw8fSACQjfE+jr+SRx2pSObyU6GGDh2qsLAwVa9eXTVq1ND06dN148YNhYeHu7o0AAAAAOnk8mDx/PPP6/Lly3rrrbd04cIFValSRevXr3eY0A0AAADgyeXyYCFJAwcOTPHUJ+Dvxmq1asyYMQ6n/AEAsgfex/F3ZjHSc+0oAAAAAEiDy++8DQAAACD7I1gAAAAAMI1gAQAA8BgkJSVpypQpOnjwoKtLAbIEwQLIhsaOHasqVaqYHufOnTsKCQnRrl27zBf1gPXr16tKlSpKSkrK1HEBIDsbPXq0vvvuO1WqVMnUOPXr19cXX3yR4rI7d+6oePHi2rdvn6l1ABlBsEC21qdPH1ksFofHiRMnXF1alho2bJg2b95sepy5c+eqRIkSql27tq3NYrFo1apVDn379Olju5Hlo7Rs2VK5cuXS559/brpGAEiP1D4PWrZs6erSJEmrVq3Stm3btHTpUrm5uWV4nDVr1ujixYvq1q2bra148eKaPn26pPs3Hx42bJgiIyPNlgw4jWCBbK9ly5Y6f/683aNEiRIO/e7cueOC6rJGnjx55OfnZ2oMwzD04Ycfql+/fplUlb0+ffrogw8+yJKxASAlKX0efPnll1m6zvR+tnTo0EG7du1S7ty5Ta3vgw8+UHh4uHLkSP0rXI8ePbRjxw79/PPPptYFOItggWzParUqICDA7uHm5qaGDRtq4MCBGjx4sAoUKKAWLVpIko4cOaJWrVopT548KlSokHr16qUrV67YxktKStJ7772nkJAQWa1WFStWTOPHj5ckbdu2TRaLRdevX7f1P3TokCwWi06dOmVr27Fjh+rVqydPT08FBgYqIiJCN27csC0vXry43n33XfXt21fe3t4qVqyY5s2bZ7ddf/zxh7p37678+fPLy8tL1atX1w8//CDJ8VSovXv3qlmzZipQoIB8fX3VoEEDHThwIM39tn//fkVFRalNmzZO7W9JOnXqVIq/DDZs2NDWJzQ0VPv27VNUVJTT4wNARqT0eZAvXz7bcovFok8++UQdO3ZU7ty5VapUKa1Zs8ZujEd9RqT22bJmzRqVKlVKHh4eatSokRYtWmT3ebFw4ULlzZvXNk5UVJTat2+vQoUKKU+ePHr22We1adOmNLfv8uXL2rJli0JDQ9Psly9fPtWpU0dLly5Nz24DMg3BAn9pixYtkru7u3bu3Km5c+fq+vXraty4sapWrap9+/Zp/fr1unjxorp27Wp7zahRozRx4kS9+eab+uWXX/TFF184dSf4qKgotWzZUp06ddJPP/2kr776Sjt27HC4CeT777+v6tWr6+DBg3r11Vf1yiuv6NixY5Kk+Ph4NWjQQOfOndOaNWt0+PBhjRgxItU5C3FxcQoLC9OOHTu0Z88elSpVSq1bt1ZcXFyqdX7//fcqXbq0vL29071tyQIDA+1+ETx48KD8/PxUv359W59ixYqpUKFC+v77750eHwCyyrhx49S1a1f99NNPat26tXr06KHo6GhJStdnhOT42XLy5El17txZHTp00OHDh/Xyyy/rjTfeSLOO+Ph4tW7dWps3b9bBgwfVsmVLhYaG6syZM6m+ZseOHcqdO7fKli37yO2sUaMG7794/AwgGwsLCzPc3NwMLy8v26Nz586GYRhGgwYNjKpVq9r1f/vtt43mzZvbtZ09e9aQZBw7dsyIjY01rFar8fHHH6e4vq1btxqSjGvXrtnaDh48aEgyTp48aRiGYfTr18946aWX7F73/fffGzly5DBu3bplGIZhBAUFGT179rQtT0pKMvz9/Y05c+YYhmEYH330keHt7W1cvXo1xTrGjBljVK5cOdX9kpiYaHh7exv/+c9/Uu0zaNAgo3Hjxg7tkgwPDw+7ferl5WXkzJnTaN++vUP/W7duGTVr1jTatm1rJCYm2i2rWrWqMXbs2FRrAIDMktLngZeXlzF+/HhbH0nG6NGjbc/j4+MNSca6desMw3j0Z4RhpPzZEhkZaVSoUMGu7Y033rD7vFiwYIHh6+ub5jaUL1/emDlzZqrLp02bZpQsWdKhPSgoyJg2bZpd24wZM4zixYunuT4gs+V0XaQBMkejRo00Z84c23MvLy/bv6tVq2bX9/Dhw9q6davy5MnjME5UVJSuX7+uhIQENWnSJMP1HD58WD/99JPdxGXDMJSUlKSTJ0/afml68KogFotFAQEBunTpkqT7p1dVrVpV+fPnT9c6L168qNGjR2vbtm26dOmSEhMTdfPmzTR/+bp165Y8PDxSXDZt2jQ1bdrUri0yMlKJiYkOffv27au4uDht3LjR4ZxfT09P3bx5M13bAABmPfx5IMnhffTB914vLy/5+PjY3nsf9RlRunRpSY6fLceOHdOzzz5r11ajRo00a42Pj9fYsWP1zTff6Pz587p3755u3bqV4ffth/H+C1cgWCDb8/LyUkhISKrLHhQfH6/Q0FBNmjTJoW/hwoX1+++/p7mu5C/OhmHY2u7eveuwjpdfflkREREOry9WrJjt37ly5bJbZrFYbKc6eXp6plnHw8LCwnT16lXNmDFDQUFBslqtqlWrVpqTCgsUKKD//e9/KS4LCAhw2Kfe3t52c0sk6Z133tGGDRv0448/pnhKVXR0tAoWLOjUtgBARqX1eZAsrffeR31GPLges4YNG6aNGzdqypQpCgkJkaenpzp37vzI9+1r166la3zef+EKBAv8rTzzzDNavny5ihcvrpw5Hf/8S5UqJU9PT23evFkvvviiw/LkN+nz58/bJgQeOnTIYR2//PLLIz/c0lKpUiV98sknio6OTtdRi507d2r27Nlq3bq1JOns2bN2kw1TUrVqVc2ZM0eGYchisThd4/Lly/Xvf/9b69atU3BwsMPy27dvKyoqSlWrVnV6bABwhUd9RqSmTJky+u9//2vXtnfv3jRfs3PnTvXp00cdO3aUdD/UPHgRkJRUrVpVFy5c0LVr1+wmpafkyJEjvP/isWPyNv5WBgwYoOjoaHXv3l179+5VVFSUNmzYoPDwcCUmJsrDw0ORkZEaMWKEPvvsM0VFRWnPnj2aP3++JCkkJESBgYEaO3asjh8/rm+++Ubvv/++3ToiIyO1a9cuDRw4UIcOHdLx48e1evVqh8nbaenevbsCAgLUoUMH7dy5U7///ruWL1+u3bt3p9i/VKlSWrx4sX799Vf98MMP6tGjxyOPejRq1Ejx8fEZuhzhkSNH1Lt3b0VGRqp8+fK6cOGCLly4YJsAKUl79uyxHTkBgMchISHB9n6U/HjUjywPetRnRGpefvllHT16VJGRkfrtt9/09ddfa+HChZKU6g83pUqV0ooVK3To0CEdPnxYL7zwwiNvKlq1alUVKFBAO3fufOS2fP/992revPkj+wGZiWCBv5UiRYpo586dSkxMVPPmzVWxYkUNHjxYefPmtZ3m9Oabb+r111/XW2+9pbJly+r555+3nX+bK1cuffnllzp69KgqVaqkSZMm6Z133rFbR6VKlbR9+3b99ttvqlevnqpWraq33npLRYoUSXed7u7u+vbbb+Xv76/WrVurYsWKmjhxYqo3VZo/f76uXbumZ555Rr169VJERIT8/f3TXIefn586duyYoZvY7du3Tzdv3tQ777yjwoUL2x7PPfecrc+XX36pHj16mL5mOwCk1/r16+3ekwoXLqy6deum+/Xp+YxISYkSJbRs2TKtWLFClSpV0pw5c2xXhbJarSm+ZurUqcqXL59q166t0NBQtWjRQs8880ya9bm5uSk8PNzhfTspKcnuCMvu3bsVExOjzp07p3fTgUxhMR48WRzA38pPP/2kZs2aKSoqKsXJihl15coVlSlTRvv27UvxZoUA8Fc3fvx4zZ07V2fPns3UcS9cuKDy5cvrwIEDCgoKUmJionx8fLRo0SJbkHj++edVuXJl/etf/8rUdQOPwhwL4G8s+ajLyZMnVbFixUwb99SpU5o9ezahAsDfxuzZs/Xss8/Kz89PO3fu1OTJk506BTa9AgICNH/+fJ05c0Zubm767LPPlJiYaDsyc+fOHVWsWFFDhgzJ9HUDj8IRCwAAAJOGDBmir776StHR0SpWrJh69eqlUaNGOTUJ3FkFChSQn5+f3nnnHXXp0iXL1gOkF8ECAAAAgGlM3gYAAABgGsECAAAAgGkECwAAAACmESwAAAAAmEawAAAAAGAawQIAAACAaQQLAAAAAKYRLAAAAACYRrAAAAAAYNr/BzT7cThyO7NiAAAAAElFTkSuQmCC\n"
                },
                "metadata": {}
              },
              {
                "output_type": "stream",
                "name": "stdout",
                "text": [
                  "🎨 Longitud de onda: 420 nm\n",
                  "📡 Frecuencia: 7.14e+14 Hz\n",
                  "⚡ Energía: 4.73e-19 J\n",
                  "👁️ Color percibido: Violeta\n"
                ]
              }
            ]
          }
        },
        "ac6d8edaa6a14974824356bcffff32a9": {
          "model_module": "@jupyter-widgets/base",
          "model_name": "LayoutModel",
          "model_module_version": "1.2.0",
          "state": {
            "_model_module": "@jupyter-widgets/base",
            "_model_module_version": "1.2.0",
            "_model_name": "LayoutModel",
            "_view_count": null,
            "_view_module": "@jupyter-widgets/base",
            "_view_module_version": "1.2.0",
            "_view_name": "LayoutView",
            "align_content": null,
            "align_items": null,
            "align_self": null,
            "border": null,
            "bottom": null,
            "display": null,
            "flex": null,
            "flex_flow": null,
            "grid_area": null,
            "grid_auto_columns": null,
            "grid_auto_flow": null,
            "grid_auto_rows": null,
            "grid_column": null,
            "grid_gap": null,
            "grid_row": null,
            "grid_template_areas": null,
            "grid_template_columns": null,
            "grid_template_rows": null,
            "height": null,
            "justify_content": null,
            "justify_items": null,
            "left": null,
            "margin": null,
            "max_height": null,
            "max_width": null,
            "min_height": null,
            "min_width": null,
            "object_fit": null,
            "object_position": null,
            "order": null,
            "overflow": null,
            "overflow_x": null,
            "overflow_y": null,
            "padding": null,
            "right": null,
            "top": null,
            "visibility": null,
            "width": null
          }
        },
        "79af032d03a54e8683def07591fcd3bc": {
          "model_module": "@jupyter-widgets/base",
          "model_name": "LayoutModel",
          "model_module_version": "1.2.0",
          "state": {
            "_model_module": "@jupyter-widgets/base",
            "_model_module_version": "1.2.0",
            "_model_name": "LayoutModel",
            "_view_count": null,
            "_view_module": "@jupyter-widgets/base",
            "_view_module_version": "1.2.0",
            "_view_name": "LayoutView",
            "align_content": null,
            "align_items": null,
            "align_self": null,
            "border": null,
            "bottom": null,
            "display": null,
            "flex": null,
            "flex_flow": null,
            "grid_area": null,
            "grid_auto_columns": null,
            "grid_auto_flow": null,
            "grid_auto_rows": null,
            "grid_column": null,
            "grid_gap": null,
            "grid_row": null,
            "grid_template_areas": null,
            "grid_template_columns": null,
            "grid_template_rows": null,
            "height": null,
            "justify_content": null,
            "justify_items": null,
            "left": null,
            "margin": null,
            "max_height": null,
            "max_width": null,
            "min_height": null,
            "min_width": null,
            "object_fit": null,
            "object_position": null,
            "order": null,
            "overflow": null,
            "overflow_x": null,
            "overflow_y": null,
            "padding": null,
            "right": null,
            "top": null,
            "visibility": null,
            "width": null
          }
        },
        "b5d79078a3b64beeb89383c4566e04e3": {
          "model_module": "@jupyter-widgets/controls",
          "model_name": "SliderStyleModel",
          "model_module_version": "1.5.0",
          "state": {
            "_model_module": "@jupyter-widgets/controls",
            "_model_module_version": "1.5.0",
            "_model_name": "SliderStyleModel",
            "_view_count": null,
            "_view_module": "@jupyter-widgets/base",
            "_view_module_version": "1.2.0",
            "_view_name": "StyleView",
            "description_width": "",
            "handle_color": null
          }
        },
        "50942303a9ff4817bcac55c81f4d912d": {
          "model_module": "@jupyter-widgets/base",
          "model_name": "LayoutModel",
          "model_module_version": "1.2.0",
          "state": {
            "_model_module": "@jupyter-widgets/base",
            "_model_module_version": "1.2.0",
            "_model_name": "LayoutModel",
            "_view_count": null,
            "_view_module": "@jupyter-widgets/base",
            "_view_module_version": "1.2.0",
            "_view_name": "LayoutView",
            "align_content": null,
            "align_items": null,
            "align_self": null,
            "border": null,
            "bottom": null,
            "display": null,
            "flex": null,
            "flex_flow": null,
            "grid_area": null,
            "grid_auto_columns": null,
            "grid_auto_flow": null,
            "grid_auto_rows": null,
            "grid_column": null,
            "grid_gap": null,
            "grid_row": null,
            "grid_template_areas": null,
            "grid_template_columns": null,
            "grid_template_rows": null,
            "height": null,
            "justify_content": null,
            "justify_items": null,
            "left": null,
            "margin": null,
            "max_height": null,
            "max_width": null,
            "min_height": null,
            "min_width": null,
            "object_fit": null,
            "object_position": null,
            "order": null,
            "overflow": null,
            "overflow_x": null,
            "overflow_y": null,
            "padding": null,
            "right": null,
            "top": null,
            "visibility": null,
            "width": null
          }
        }
      }
    }
  },
  "cells": [
    {
      "cell_type": "markdown",
      "metadata": {
        "id": "view-in-github",
        "colab_type": "text"
      },
      "source": [
        "<a href=\"https://colab.research.google.com/github/massegu/Percepcion_V1_Clinica/blob/main/V1_Color.ipynb\" target=\"_parent\"><img src=\"https://colab.research.google.com/assets/colab-badge.svg\" alt=\"Open In Colab\"/></a>"
      ]
    },
    {
      "cell_type": "code",
      "source": [
        "import numpy as np\n",
        "import matplotlib.pyplot as plt\n",
        "import ipywidgets as widgets\n",
        "\n",
        "# Constantes físicas\n",
        "h = 6.626e-34  # J·s\n",
        "c = 3e8        # m/s\n",
        "\n",
        "# Diccionario de colores aproximados por longitud de onda\n",
        "colores = {\n",
        "    'Violeta': (380, 450, '#8B00FF'),\n",
        "    'Azul': (450, 495, '#0000FF'),\n",
        "    'Verde': (495, 570, '#00FF00'),\n",
        "    'Amarillo': (570, 590, '#FFFF00'),\n",
        "    'Naranja': (590, 620, '#FFA500'),\n",
        "    'Rojo': (620, 750, '#FF0000')\n",
        "}\n",
        "\n",
        "def calcular_propiedades(long_nm):\n",
        "    long_m = long_nm * 1e-9\n",
        "    frecuencia = c / long_m\n",
        "    energia = h * frecuencia\n",
        "\n",
        "    # Determinar color percibido\n",
        "    color_nombre = 'Infrarrojo'\n",
        "    color_hex = '#808080'  # gris por defecto\n",
        "    for nombre, valores in colores.items():\n",
        "        min_nm, max_nm, hexcode = valores\n",
        "        if min_nm <= long_nm <= max_nm:\n",
        "            color_nombre = nombre\n",
        "            color_hex = hexcode\n",
        "            break\n",
        "\n",
        "    # Normalización para visualización\n",
        "    freq_norm = frecuencia / 1e14\n",
        "    energia_norm = energia / 1e-19\n",
        "\n",
        "    # Visualización\n",
        "    fig, ax = plt.subplots(figsize=(8,4))\n",
        "    ax.set_facecolor('white')\n",
        "    ax.bar('Frecuencia (Hz)', freq_norm, color='skyblue')\n",
        "    ax.bar('Energía (J)', energia_norm, color=color_hex)\n",
        "\n",
        "    ax.set_title(f'Propiedades físicas de la luz ({long_nm} nm)', color='black')\n",
        "    ax.set_ylabel('Valor normalizado', color='black')\n",
        "    ax.tick_params(colors='black')\n",
        "    for label in ax.get_xticklabels(): label.set_color('black')\n",
        "    for label in ax.get_yticklabels(): label.set_color('black')\n",
        "    plt.tight_layout()\n",
        "    plt.show()\n",
        "\n",
        "    # Información textual\n",
        "    print(f\"🎨 Longitud de onda: {long_nm} nm\")\n",
        "    print(f\"📡 Frecuencia: {frecuencia:.2e} Hz\")\n",
        "    print(f\"⚡ Energía: {energia:.2e} J\")\n",
        "    print(f\"👁️ Color percibido: {color_nombre}\")\n",
        "\n",
        "widgets.interact(calcular_propiedades, long_nm=widgets.IntSlider(value=530, min=380, max=750, step=10, description='λ (nm):'))\n"
      ],
      "metadata": {
        "colab": {
          "base_uri": "https://localhost:8080/",
          "height": 598,
          "referenced_widgets": [
            "47b583eaa6914718bbfcfa7de55a1b00",
            "7f873e5491284944938480d987f5934a",
            "9a8aa57447154f11b90cb01bfcf6cafe",
            "ac6d8edaa6a14974824356bcffff32a9",
            "79af032d03a54e8683def07591fcd3bc",
            "b5d79078a3b64beeb89383c4566e04e3",
            "50942303a9ff4817bcac55c81f4d912d"
          ]
        },
        "id": "xIwVFdxYZwJl",
        "outputId": "4a0d98c0-fc1e-48cd-cff1-db4cc9e21c17"
      },
      "execution_count": 8,
      "outputs": [
        {
          "output_type": "display_data",
          "data": {
            "text/plain": [
              "interactive(children=(IntSlider(value=530, description='λ (nm):', max=750, min=380, step=10), Output()), _dom_…"
            ],
            "application/vnd.jupyter.widget-view+json": {
              "version_major": 2,
              "version_minor": 0,
              "model_id": "47b583eaa6914718bbfcfa7de55a1b00"
            }
          },
          "metadata": {}
        },
        {
          "output_type": "execute_result",
          "data": {
            "text/plain": [
              "<function __main__.calcular_propiedades(long_nm)>"
            ],
            "text/html": [
              "<div style=\"max-width:800px; border: 1px solid var(--colab-border-color);\"><style>\n",
              "      pre.function-repr-contents {\n",
              "        overflow-x: auto;\n",
              "        padding: 8px 12px;\n",
              "        max-height: 500px;\n",
              "      }\n",
              "\n",
              "      pre.function-repr-contents.function-repr-contents-collapsed {\n",
              "        cursor: pointer;\n",
              "        max-height: 100px;\n",
              "      }\n",
              "    </style>\n",
              "    <pre style=\"white-space: initial; background:\n",
              "         var(--colab-secondary-surface-color); padding: 8px 12px;\n",
              "         border-bottom: 1px solid var(--colab-border-color);\"><b>calcular_propiedades</b><br/>def calcular_propiedades(long_nm)</pre><pre class=\"function-repr-contents function-repr-contents-collapsed\" style=\"\"><a class=\"filepath\" style=\"display:none\" href=\"#\">/tmp/ipython-input-666793992.py</a>&lt;no docstring&gt;</pre></div>"
            ]
          },
          "metadata": {},
          "execution_count": 8
        }
      ]
    }
  ]
}